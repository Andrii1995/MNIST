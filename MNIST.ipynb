{
 "cells": [
  {
   "cell_type": "code",
   "execution_count": null,
   "metadata": {},
   "outputs": [],
   "source": []
  },
  {
   "cell_type": "code",
   "execution_count": null,
   "metadata": {},
   "outputs": [],
   "source": [
    "import numpy as np\n",
    "import pandas as pd\n",
    "import matplotlib.pyplot as plt\n",
    "\n",
    "train = pd.read_csv(\"train.csv\", header = None)\n",
    "test = pd.read_csv(\"test.csv\", header = None)\n",
    "\n",
    "train.head(10)\n",
    "#test.head(10)\n",
    "\n",
    "image_row = test.values[212, 0:]\n",
    "image_row.shape\n",
    "image_row.reshape(28,28).shape\n",
    "plt.imshow(image_row.reshape(28,28), cmap=\"Greys\")\n",
    "\n",
    "\n",
    "\n",
    "from sklearn.neighbors import KNeighborsClassifier\n",
    "\n",
    "train_data = train.values[:,1:]\n",
    "test_data = test.values[:,0:]\n",
    "\n",
    "train_label = train.values[:,0]\n",
    "test_label = test.values[:,0]\n",
    "\n",
    "print(train_data.shape, test_data.shape)\n",
    "\n",
    "print(train_label.shape, test_label.shape)\n",
    "\n",
    "kn_classifier = KNeighborsClassifier(n_jobs = -1, n_neighbors = 9, weights = 'uniform')\n",
    "kn_classifier = kn_classifier.fit(train_data, train_label)\n",
    "\n",
    "from sklearn.metrics import accuracy_score\n",
    "kn_predictions = kn_classifier.predict(train_data)\n",
    "accuracy_score(train_label, kn_predictions)\n",
    "\n",
    "test_predict=kn_classifier.predict(test_data)\n",
    "print(test_predict)\n",
    "\n",
    "\n",
    "testpredict = test_predict.T\n",
    "print(testpredict)\n",
    "testpredict.shape\n",
    "\n",
    "test = pd.DataFrame(testpredict)\n",
    "test.to_csv(r'C:\\Users\\andri\\Desktop\\Data Science\\MNIST_KAGGLE\\submissionsa.csv', index=False , header = 1)\n",
    "\n",
    "\n",
    "test.shape\n",
    "\n",
    "submission = pd.read_csv('aaaaa.csv', header = 1, delimiter = \";\")\n",
    "submission.head(10)\n",
    "submission.to_csv(r'C:\\Users\\andri\\Desktop\\Data Science\\MNIST_KAGGLE\\a19.csv', index=False , header = 1)"
   ]
  },
  {
   "cell_type": "code",
   "execution_count": null,
   "metadata": {},
   "outputs": [],
   "source": []
  }
 ],
 "metadata": {
  "kernelspec": {
   "display_name": "Python 3",
   "language": "python",
   "name": "python3"
  }
 },
 "nbformat": 4,
 "nbformat_minor": 2
}
